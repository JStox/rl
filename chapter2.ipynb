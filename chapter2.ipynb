{
 "cells": [
  {
   "cell_type": "code",
   "execution_count": 1,
   "metadata": {},
   "outputs": [],
   "source": [
    "import random"
   ]
  },
  {
   "cell_type": "code",
   "execution_count": 2,
   "metadata": {},
   "outputs": [],
   "source": [
    "class RandomWalkBandit:\n",
    "\n",
    "    def __init__(self, n):\n",
    "        self.bandits = [{\n",
    "            'r': 0,\n",
    "            'q': 0,\n",
    "            'k': 0\n",
    "        } for i in range(n)]\n",
    "        self.rewards = []\n",
    "\n",
    "    def random_walk(self):\n",
    "        for bandit in self.bandits:\n",
    "            bandit['r'] += random.choice([-1, 1])\n",
    "        \n",
    "    def algo(self, e=0.1, alpha=0.1):\n",
    "        for t in range(1000):\n",
    "            sample = random.random()\n",
    "            if sample > e:\n",
    "                action = max(self.bandits, key=lambda x: x['q'])\n",
    "            else:\n",
    "                action = random.choice(self.bandits)\n",
    "            reward = action['r']\n",
    "            if alpha == 0.1:\n",
    "                action['q'] += 0.1*(reward - action['q'])\n",
    "            else:\n",
    "                action['q'] += 1/action['k']*(reward - action['q'])\n",
    "            action['k'] += 1\n",
    "            self.rewards.append(reward)\n",
    "            self.random_walk()\n",
    "            \n"
   ]
  },
  {
   "cell_type": "code",
   "execution_count": 6,
   "metadata": {},
   "outputs": [
    {
     "ename": "TypeError",
     "evalue": "'int' object is not iterable",
     "output_type": "error",
     "traceback": [
      "\u001b[0;31m---------------------------------------------------------------------------\u001b[0m",
      "\u001b[0;31mTypeError\u001b[0m                                 Traceback (most recent call last)",
      "Cell \u001b[0;32mIn[6], line 1\u001b[0m\n\u001b[0;32m----> 1\u001b[0m rwb \u001b[39m=\u001b[39m RandomWalkBandit(n\u001b[39m=\u001b[39;49m\u001b[39m10\u001b[39;49m)\n\u001b[1;32m      2\u001b[0m rwb\u001b[39m.\u001b[39malgo()\n",
      "Cell \u001b[0;32mIn[2], line 4\u001b[0m, in \u001b[0;36mRandomWalkBandit.__init__\u001b[0;34m(self, n)\u001b[0m\n\u001b[1;32m      3\u001b[0m \u001b[39mdef\u001b[39;00m \u001b[39m__init__\u001b[39m(\u001b[39mself\u001b[39m, n):\n\u001b[0;32m----> 4\u001b[0m     \u001b[39mself\u001b[39m\u001b[39m.\u001b[39mbandits \u001b[39m=\u001b[39m [{\n\u001b[1;32m      5\u001b[0m         \u001b[39m'\u001b[39m\u001b[39mr\u001b[39m\u001b[39m'\u001b[39m: \u001b[39m0\u001b[39m,\n\u001b[1;32m      6\u001b[0m         \u001b[39m'\u001b[39m\u001b[39mq\u001b[39m\u001b[39m'\u001b[39m: \u001b[39m0\u001b[39m,\n\u001b[1;32m      7\u001b[0m         \u001b[39m'\u001b[39m\u001b[39mk\u001b[39m\u001b[39m'\u001b[39m: \u001b[39m0\u001b[39m\n\u001b[1;32m      8\u001b[0m     } \u001b[39mfor\u001b[39;00m i \u001b[39min\u001b[39;00m n]\n\u001b[1;32m      9\u001b[0m     \u001b[39mself\u001b[39m\u001b[39m.\u001b[39mrewards \u001b[39m=\u001b[39m []\n",
      "\u001b[0;31mTypeError\u001b[0m: 'int' object is not iterable"
     ]
    }
   ],
   "source": [
    "rwb = RandomWalkBandit(n=10)\n",
    "rwb.algo()"
   ]
  },
  {
   "cell_type": "code",
   "execution_count": null,
   "metadata": {},
   "outputs": [],
   "source": []
  }
 ],
 "metadata": {
  "kernelspec": {
   "display_name": "Python 3",
   "language": "python",
   "name": "python3"
  },
  "language_info": {
   "codemirror_mode": {
    "name": "ipython",
    "version": 3
   },
   "file_extension": ".py",
   "mimetype": "text/x-python",
   "name": "python",
   "nbconvert_exporter": "python",
   "pygments_lexer": "ipython3",
   "version": "3.10.6"
  },
  "orig_nbformat": 4,
  "vscode": {
   "interpreter": {
    "hash": "b0fa6594d8f4cbf19f97940f81e996739fb7646882a419484c72d19e05852a7e"
   }
  }
 },
 "nbformat": 4,
 "nbformat_minor": 2
}
