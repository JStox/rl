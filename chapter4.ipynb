{
 "cells": [
  {
   "cell_type": "code",
   "execution_count": 1,
   "metadata": {},
   "outputs": [],
   "source": [
    "## Question 4.5"
   ]
  },
  {
   "cell_type": "code",
   "execution_count": 2,
   "metadata": {},
   "outputs": [],
   "source": [
    "## Location 1: lambda = 3 for both returns and rentals. Poisson distribution\n",
    "## Location 2: lambda = 4 for renatals, lambda = 2 for returns\n",
    "## 20 cars maximum between two locations, extras are sent back to rental company\n",
    "## Renting out a car gives reward of $10. Costs $2 to move a car at night\n",
    "## Cars can be rented the day after they are returned\n",
    "## Discount rate is .9"
   ]
  },
  {
   "cell_type": "code",
   "execution_count": 3,
   "metadata": {},
   "outputs": [],
   "source": [
    "from numpy import random\n",
    "import numpy as np\n",
    "from math import e, factorial\n",
    "\n",
    "class JacksCarRental:\n",
    "\n",
    "    def __init__(self, location_a_cars, location_b_cars, rent_reward=10, move_penalty=2, lambda_rental_a=3, \n",
    "                lambda_rental_b=4, lambda_return_a=3, lambda_return_b=2, discount=0.9):\n",
    "        self.location_a_cars = location_a_cars\n",
    "        self.location_b_cars = location_b_cars\n",
    "        self.rent_reward = rent_reward\n",
    "        self.move_penalty = move_penalty\n",
    "        self.lambda_rental_a = lambda_rental_a\n",
    "        self.lambda_rental_b = lambda_rental_b\n",
    "        self.lambda_return_a = lambda_return_a\n",
    "        self.lambda_return_b = lambda_return_b\n",
    "        self.discount_rate = discount\n",
    "\n",
    "\n",
    "    def get_daily_demand(self):\n",
    "        a_rentals = random.poisson(lam=self.lambda_rental_a, size=1)\n",
    "        b_rentals = random.poisson(lam=self.lambda_rental_b, size=1)\n",
    "        a_returns = random.poisson(lam=self.lambda_return_a, size=1)\n",
    "        b_returns = random.poisson(lam=self.lambda_return_b, size=1)\n",
    "        return a_rentals, b_rentals, a_returns, b_returns\n",
    "\n",
    "    \n",
    "    def run_day(self):\n",
    "        a_rentals, b_rentals, a_returns, b_returns = self.get_daily_demand()\n",
    "        if self.location_a_cars - a_rentals < 0:\n",
    "            a_rentals = self.location_a_cars\n",
    "        if self.location_b_cars - b_rentals < 0:\n",
    "            b_rentals = self.location_b_cars\n",
    "\n",
    "        reward = 10 * (a_rentals + b_rentals)\n",
    "\n",
    "        if self.location_a_cars + a_returns > 20:\n",
    "            self.location_a_cars = 20\n",
    "        else:\n",
    "            self.location_a_cars += a_returns\n",
    "        if self.location_b_cars + b_returns > 20:\n",
    "            self.location_b_cars = 20\n",
    "        else:\n",
    "            self.location_b_cars += b_returns\n",
    "\n",
    "        return reward\n",
    "\n",
    "    \n",
    "    def rental_probability(self, rented_a, rented_b, current_a, current_b):\n",
    "        p_rent_a = self.poisson_probability(self.lambda_rental_a, rented_a)\n",
    "        p_rent_b = self.poisson_probability(self.lambda_rental_b, rented_b)\n",
    "        p_return_a = self.poisson_probability(self.lambda_return_a, current_a - rented_a)\n",
    "        p_return_b = self.poisson_probability(self.lambda_return_b, current_b - rented_b)\n",
    "        return p_rent_a * p_rent_b * p_return_a * p_return_b\n",
    "    \n",
    "    \n",
    "    def poisson_probability(self, lam, n):\n",
    "        return (np.exp(-lam) * lam**n) / np.math.factorial(n)\n",
    "    \n",
    "\n",
    "\n",
    "\n",
    "    # def policy_iteration(self):\n",
    "    #     ## Initialization\n",
    "    #     V = np.zeros((20, 20))\n",
    "    #     pi = np.ones((20, 20))  # will define as how many cars to move from A to B\n",
    "\n",
    "    #     ## Policy Evaluation\n",
    "    #     delta = 15\n",
    "    #     while delta < .5:\n",
    "    #         for a in V:\n",
    "    #             for b in a:\n",
    "    #                 if a + b > 20:\n",
    "    #                     continue\n",
    "    #                 v = V[a, b]\n",
    "    #                 V[a, b] = [self.get_poisson_estimator(self.lambda_rental_a, x) * (x * self.rent_reward + self.discount_rate * V[a - x, b - y]) for x in range(a) for y in range(b)]\n"
   ]
  },
  {
   "cell_type": "code",
   "execution_count": null,
   "metadata": {},
   "outputs": [],
   "source": [
    "def policy_evaluation(policy, env, num_iterations=100, threshold=1e-6):\n",
    "    V = policy.copy()\n",
    "    for i in range(num_iterations):\n",
    "        delta = 0\n",
    "        for a in range(21):\n",
    "            for b in range(21):\n",
    "                v = V[a, b]\n",
    "                total_reward = 0\n",
    "                for rented_a in range(a+1):\n",
    "                    for rented_b in range(b+1):\n",
    "                        prob = env.rental_probability(rented_a, rented_b, a, b)\n",
    "                        reward = (rented_a + rented_b) * env.rent_reward\n",
    "                        next_a = min(a - rented_a + env.move_penalty, 20)\n",
    "                        next_b = min(b - rented_b + env.move_penalty, 20)\n",
    "                        total_reward += prob * (reward + env.discount_rate * V[next_a, next_b])\n",
    "                V[a, b] = total_reward\n",
    "                delta = max(delta, abs(v - V[a, b]))\n",
    "        if delta < threshold:\n",
    "            break\n",
    "    return V"
   ]
  }
 ],
 "metadata": {
  "kernelspec": {
   "display_name": "Python 3",
   "language": "python",
   "name": "python3"
  },
  "language_info": {
   "codemirror_mode": {
    "name": "ipython",
    "version": 3
   },
   "file_extension": ".py",
   "mimetype": "text/x-python",
   "name": "python",
   "nbconvert_exporter": "python",
   "pygments_lexer": "ipython3",
   "version": "3.10.6"
  },
  "orig_nbformat": 4,
  "vscode": {
   "interpreter": {
    "hash": "b0fa6594d8f4cbf19f97940f81e996739fb7646882a419484c72d19e05852a7e"
   }
  }
 },
 "nbformat": 4,
 "nbformat_minor": 2
}
